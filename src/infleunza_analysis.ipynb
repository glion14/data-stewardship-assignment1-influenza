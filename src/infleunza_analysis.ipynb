{
 "cells": [
  {
   "cell_type": "markdown",
   "metadata": {
    "nbgrader": {
     "grade": false,
     "grade_id": "cell-651992bf613d641d",
     "locked": true,
     "schema_version": 3,
     "solution": false,
     "task": false
    }
   },
   "source": [
    "# DOPP 2019W Exercise 2\n",
    "\n",
    "### Before you get started, please read the instructions in this notebook carefully."
   ]
  },
  {
   "cell_type": "markdown",
   "metadata": {
    "hidden": true,
    "nbgrader": {
     "grade": false,
     "grade_id": "cell-ba73092709bf4a6c",
     "locked": true,
     "schema_version": 3,
     "solution": false,
     "task": false
    }
   },
   "source": [
    "## Preliminaries\n",
    "\n",
    "- Please use only Python **version 3** (3.6+ recommended). It is recommended to install Anaconda or Miniconda. \n",
    "\n",
    "- This notebook will be scored using [nbgrader][https://nbgrader.readthedocs.io/en/stable/user_guide/highlights.html]. \n",
    "- Please use the code stubs provided, do not rename any functions, and add and modify your code only at the provided markers. \n",
    "- Check and make sure that your submission executes without any errors before submitting it. Submissions that don't execute will not be accepted.\n",
    "\n",
    "\n",
    "The submission deadline is **15.12.2019 23:55.**\n",
    "\n",
    "ections marked with `# YOUR CODE HERE` must be used to implement the functionality.\n",
    "Cells containing `YOUR ANSWER HERE` must be used to fill in textual answers."
   ]
  },
  {
   "cell_type": "code",
   "execution_count": 7,
   "metadata": {
    "hidden": true,
    "nbgrader": {
     "grade": true,
     "grade_id": "cell-5e0a9eab3d74eebf",
     "locked": false,
     "points": 0,
     "schema_version": 3,
     "solution": true,
     "task": false
    }
   },
   "outputs": [],
   "source": [
    "# Note: The only imports allowed are those contained in Python's standard library, pandas, numpy, scipy and matplotlib\n",
    "import numpy as np\n",
    "import pandas as pd\n",
    "import glob\n",
    "import matplotlib.pyplot as plt\n",
    "import matplotlib.ticker as ticker\n",
    "import seaborn as sns\n",
    "import sklearn\n"
   ]
  },
  {
   "cell_type": "markdown",
   "metadata": {
    "hidden": true,
    "nbgrader": {
     "grade": false,
     "grade_id": "cell-298eeea277deefa9",
     "locked": true,
     "schema_version": 3,
     "solution": false,
     "task": false
    }
   },
   "source": [
    "## Goal\n",
    "\n",
    "In this exercise, you will \n",
    " * use `pandas` to read, prepare and transform data,\n",
    " * use `matplotlib` to visually alayse data,\n",
    " * use `scikit-learn` to build prediction models.\n",
    "\n",
    "\n",
    "The goal of this exercise is to model the relationship between weather observations and the prevalence of new influenza infections.\n",
    "\n",
    "To investigate a potential relationship, we will use two datasets:\n",
    " * daily weather observation data in Vienna (2012-2018)\n",
    " * weekly reports on [new influenza infections](https://www.data.gv.at/katalog/dataset/grippemeldedienst-stadt-wien) in Vienna (2009-2018).\n",
    "\n",
    "**IMPORTANT:** he weather data set differs from the one used in Exercise 1. Make sure you use the correct data. The data to be used can be found in the subdirectory named `data`. \n",
    "\n",
    "To complete this exercise, you will have to:\n",
    "* prepare the data, which (at a minimum) involves the following:\n",
    "    - handling missing values,\n",
    "    - handling outliers\n",
    "    - temporal alignment (i.e. convert daily data to weekly data using appropriate aggregation functions),\n",
    "* analyse the data:\n",
    "    - compare descriptive statistics,\n",
    "    - visually investigate the raw data to gain an understanding of the data, identify patterns, outliers etc.,\n",
    "    - look at the relationship between the variables of interest,\n",
    "* model the relationship:\n",
    "    - fit a model that predicts new infections from weather observation data."
   ]
  },
  {
   "cell_type": "markdown",
   "metadata": {
    "heading_collapsed": true,
    "nbgrader": {
     "grade": false,
     "grade_id": "cell-f7354913ff55bfb7",
     "locked": true,
     "schema_version": 3,
     "solution": false,
     "task": false
    }
   },
   "source": [
    "## Task 1: Load Data\n",
    "\n",
    "Total number of points for completing this task: **10**"
   ]
  },
  {
   "cell_type": "markdown",
   "metadata": {
    "hidden": true,
    "nbgrader": {
     "grade": false,
     "grade_id": "cell-1e8af7000c653c50",
     "locked": true,
     "schema_version": 3,
     "solution": false,
     "task": false
    }
   },
   "source": [
    "### Weather observations\n",
    "\n",
    "As a first step, implement the method `load_weather_data()`, which should read all individual (yearly) data sets from the csv files in `data` into a single `pd.DataFrame` and return it. \n",
    "\n",
    "- from the `date` column create `year`, `month`, `week`, `day` columns, where `week` contains the week number of the date. Use Pandas built-in datetime handling features.\n",
    "- create a `MultiIndex` from the date columns with the following hierarchy: `year` - `month` - `week` - `day` (make sure to label them accordingly)\n",
    "- make sure that all columns are appropriately typed\n",
    "- make sure that you load all the data (2012-2018)\n",
    "\n",
    "**Hints:**\n",
    " \n",
    " - LOOK at the data in the original files\n",
    " - It is advisable not to append each data set individually, but to read each data frame, store it into a list and  combine them once at the end.\n",
    " - Your resulting data frame should look as follows:\n",
    "\n",
    "![Weather data frame example](weather_data_dataframe_sample.png)"
   ]
  },
  {
   "cell_type": "code",
   "execution_count": 13,
   "metadata": {
    "hidden": true,
    "nbgrader": {
     "grade": true,
     "grade_id": "task_1_1",
     "locked": false,
     "points": 6,
     "schema_version": 3,
     "solution": true,
     "task": false
    }
   },
   "outputs": [
    {
     "name": "stderr",
     "output_type": "stream",
     "text": [
      "<ipython-input-13-360ba8fab0b6>:24: FutureWarning: Series.dt.weekofyear and Series.dt.week have been deprecated.  Please use Series.dt.isocalendar().week instead.\n",
      "  data['week'] = data['date'].dt.week\n"
     ]
    }
   ],
   "source": [
    "def load_weather_data():\n",
    "    \"\"\" \n",
    "    Load all weather data files and combine them into a single Pandas DataFrame.\n",
    "    Add a week column and a hierarchical index (year, month, week, day)\n",
    "    \n",
    "    Returns\n",
    "    --------\n",
    "    weather_data: data frame containing the weather data\n",
    "    \"\"\"\n",
    "    ### BEGIN SOLUTION\n",
    "    input_files = glob.glob('../data/weather/*')\n",
    "    data = pd.DataFrame()\n",
    "    data_list = []\n",
    "    for input_file in input_files:\n",
    "        df = pd.read_csv(input_file,  sep=';', header = 0)\n",
    "        data_list.append(df)\n",
    "\n",
    "    data = pd.concat(data_list)\n",
    "    # create year, month, day, week columns\n",
    "    data['date'] = pd.to_datetime(data['date'])\n",
    "    data['year'] = data['date'].dt.year\n",
    "    data['month'] = data['date'].dt.month\n",
    "    data['day'] = data['date'].dt.day\n",
    "    data['week'] = data['date'].dt.week\n",
    "    \n",
    "    data.sort_values(['year', 'month','week', 'day'], ascending = [True, True, True, True], inplace = True)\n",
    "    \n",
    "    data.set_index(['year', 'month', 'week', 'day'], inplace = True)\n",
    "    data.index.set_names(['year','month','week', 'day'], inplace = True)\n",
    "    \n",
    "    weather_data = data\n",
    "    ### END SOLUTION\n",
    "    return weather_data\n",
    "\n",
    "data_weather = load_weather_data()"
   ]
  },
  {
   "cell_type": "markdown",
   "metadata": {
    "hidden": true,
    "nbgrader": {
     "grade": false,
     "grade_id": "cell-dd1453912bfabbb7",
     "locked": true,
     "schema_version": 3,
     "solution": false,
     "task": false
    }
   },
   "source": [
    "### Influenza infections\n",
    "\n",
    "Load and prepare the second data set (`influenza.csv`), which contains the number of new influenza infections on a weekly basis, as follows:\n",
    "\n",
    "- get rid of all columns except `Neuerkrankungen pro Woche`, `Jahr`, and `Kalenderwoche`\n",
    "- rename `Neuerkrankungen pro Woche` to `weekly_infections`\n",
    "- create a `MultiIndex` from the `Jahr` (→ `year`) and `Kalenderwoche` (→ `week`) columns\n",
    "- make sure that all columns are appropriately typed\n",
    "- your resulting data frame should look as follows:\n",
    "\n",
    "![Example data frame](influenza_data_dataframe_sample.png)"
   ]
  },
  {
   "cell_type": "code",
   "execution_count": 15,
   "metadata": {
    "hidden": true,
    "nbgrader": {
     "grade": true,
     "grade_id": "cell-53ad536ee8e2a817",
     "locked": false,
     "points": 4,
     "schema_version": 3,
     "solution": true,
     "task": false
    }
   },
   "outputs": [
    {
     "name": "stderr",
     "output_type": "stream",
     "text": [
      "<ipython-input-15-bde78dc6f653>:17: FutureWarning: Columnar iteration over characters will be deprecated in future releases.\n",
      "  data['week'], data['week_del'] = data['Kalenderwoche'].str.split('.', 1).str\n"
     ]
    }
   ],
   "source": [
    "def load_influenza_data():\n",
    "    \"\"\" \n",
    "    Load and prepare the influenza data file\n",
    "    \n",
    "    Returns\n",
    "    --------\n",
    "    influenza_data: data frame containing the influenza data\n",
    "    \"\"\"\n",
    "    ### BEGIN SOLUTION\n",
    "    input_file = glob.glob('../data/influenza/influenza.csv')[0]\n",
    "    data = pd.DataFrame()\n",
    "    data = pd.read_csv(input_file,  sep = ',', header = 0)\n",
    "    # print columns\n",
    "    # print(data.columns)\n",
    "    \n",
    "    # split the week column (drop the .Woche part)\n",
    "    data['week'], data['week_del'] = data['Kalenderwoche'].str.split('.', 1).str\n",
    "    # print(data)\n",
    "    # drop some columns\n",
    "    \n",
    "    cols_to_drop = ['ID', 'BEZEICHNUNG', 'Grippesaison ', 'Schwankungsbreite', 'week_del', 'Kalenderwoche']\n",
    "    data = data.drop(cols_to_drop, axis = 1)\n",
    "    \n",
    "    data.rename(columns = {'Neuerkrankungen pro Woche': 'weekly_infections',\n",
    "                           'Jahr' : 'year', 'Kalenderwoche' : 'week'}, inplace = True)\n",
    "                                 \n",
    "    data['week'] = data['week'].apply(lambda x: int(''.join(filter(str.isdigit, x))))\n",
    "    data = data[data['weekly_infections'] != '-']\n",
    "    data['weekly_infections'] = data['weekly_infections'].astype(int)\n",
    "    \n",
    "    data.set_index(['year', 'week'], inplace = True)\n",
    "    data.index.set_names(['year',  'week'], inplace = True)\n",
    "    \n",
    "    influenza_data = data\n",
    "    \n",
    "    \n",
    "    ### END SOLUTION\n",
    "    \n",
    "    return influenza_data\n",
    "\n",
    "data_influenza = load_influenza_data()"
   ]
  },
  {
   "cell_type": "markdown",
   "metadata": {
    "heading_collapsed": true,
    "nbgrader": {
     "grade": false,
     "grade_id": "cell-eaed0608e1e878dd",
     "locked": true,
     "schema_version": 3,
     "solution": false,
     "task": false
    }
   },
   "source": [
    "## Task 2: Handling Missing Values\n",
    "\n",
    "Total number of points for completing this task: **15**"
   ]
  },
  {
   "cell_type": "markdown",
   "metadata": {
    "hidden": true
   },
   "source": [
    "If you take a closer look at the data, you will notice that a few of the observations are missing.\n",
    "\n",
    "There are a wide range of standard strategies to deal with such missing values, including:\n",
    "\n",
    "- row deletion\n",
    "- substitution methods (e.g., replace with mean or median)\n",
    "- hot-/cold-deck methods (impute from a randomly selected similar record)\n",
    "- regression methods\n",
    "\n",
    "To decide which strategy is appropriate, it is important to investigate the mechanism that led to the missing values to find out whether the missing data is missing completely at random, missing at random, or missing not at random. \n",
    "\n",
    " - **MCAR** (Missing Completely At Random) means that there is no relationship between the missingness of the data and any of the values.\n",
    " - **MAR** (Missing At Random) means that that there is a systematic relationship between the propensity of missing values and the observed data, but not the missing data.\n",
    " - **MNAR** (Missing Not At Random) means that there is a systematic relationship between the propensity of a value to be missing and its values. \n",
    "\n",
    "To find out more about what mechanisms may have caused the missing values, you talked to the metereologist that compiled the data. \n",
    "She told you that she does not know why some of the temperature readings are missing, but that it may be that someone forgot to record them. In any case, it is likely that the propensity of a temperature value to be missing does not have anything to do with the weather itself.\n",
    "\n",
    "As far as the missing humidity readings are concerned, she says that according to her experience, she suspects that the humidity sensor is less reliable in hot weather.\n",
    "\n",
    "Check the plausibility of these hypotheses in the data, consider the implications, and devise an appropriate strategy to deal with the various missing values.\n",
    "\n",
    "To implement your strategy, you can use a range of standard mechanisms provided by Pandas, by implementing `handle_missingValues_simple`, or implement a custom strategy (for extra points, by implementing `handle_missingValues_advanced`)."
   ]
  },
  {
   "cell_type": "code",
   "execution_count": 16,
   "metadata": {
    "hidden": true,
    "nbgrader": {
     "grade": true,
     "grade_id": "cell-d0206b1a358470cb",
     "locked": false,
     "points": 9,
     "schema_version": 3,
     "solution": true,
     "task": false
    }
   },
   "outputs": [],
   "source": [
    "def handle_missingValues_simple(incomplete_data):\n",
    "    \"\"\" \n",
    "    Parameters\n",
    "    --------\n",
    "    incomplete_data: data frame containing missing values \n",
    "    \n",
    "    Returns\n",
    "    --------\n",
    "    complete_data: data frame not containing any missing values\n",
    "    \"\"\"\n",
    "    incomplete_data[\"temp_7h\"].fillna(incomplete_data[\"temp_dailyMean\"]-1.9, inplace = True)\n",
    "    incomplete_data[\"temp_14h\"].fillna(incomplete_data[\"temp_dailyMean\"]+2.7, inplace = True)\n",
    "    incomplete_data[\"temp_19h\"].fillna(incomplete_data[\"temp_dailyMean\"]+0.4, inplace = True)\n",
    "    \n",
    "    #replacing null humidity values with mean\n",
    "    incomplete_data[\"hum_7h\"].fillna(float(80.29), inplace = True)\n",
    "    incomplete_data[\"hum_14h\"].fillna(float(61.82), inplace = True)\n",
    "    incomplete_data[\"hum_19h\"].fillna(float(70.08), inplace = True)\n",
    "    \n",
    "    #replacing null precipitation values ('Spuren') with median\n",
    "    #\n",
    "    incomplete_data['precip'].replace('Spuren', 0.4, inplace = True)\n",
    "    incomplete_data['precip'] = incomplete_data['precip'].astype(float)\n",
    "    \n",
    "    complete_data = incomplete_data\n",
    "    return complete_data\n",
    "\n",
    "\n",
    "def handle_missingValues_advanced (incomplete_data):\n",
    "    \"\"\" \n",
    "    Parameters\n",
    "    --------\n",
    "    data: data frame containing missing values \n",
    "    \n",
    "    Returns\n",
    "    --------\n",
    "    data: data frame not containing any missing values\n",
    "    \"\"\"\n",
    "    ### BEGIN SOLUTION\n",
    "    complete_data = incomplete_data.fillna(0)\n",
    "    ### END SOLUTION\n",
    "    \n",
    "    return complete_data\n",
    "    \n",
    "data_weather_complete = handle_missingValues_simple(data_weather)"
   ]
  },
  {
   "cell_type": "markdown",
   "metadata": {
    "hidden": true,
    "nbgrader": {
     "grade": false,
     "grade_id": "cell-f664216cc88bb39a",
     "locked": true,
     "schema_version": 3,
     "solution": false,
     "task": false
    }
   },
   "source": [
    "###  Discussion\n",
    "\n",
    "#### Pros and Cons of strategies for dealing with missing data\n",
    "\n",
    "In the cell provided below, discuss the PROs and CONs of various strategies (row deletion, imputation, hot deck methods etc.) for dealing with missing data. Discuss when it is appropriate to use each method."
   ]
  },
  {
   "cell_type": "markdown",
   "metadata": {
    "nbgrader": {
     "grade": false,
     "grade_id": "cell-a6f1374bea9ab539",
     "locked": true,
     "points": 3,
     "schema_version": 3,
     "solution": false,
     "task": true
    }
   },
   "source": [
    "Your answer here"
   ]
  },
  {
   "cell_type": "markdown",
   "metadata": {
    "hidden": true,
    "nbgrader": {
     "grade": false,
     "grade_id": "cell-7cf341064d4ce76b",
     "locked": true,
     "schema_version": 3,
     "solution": false,
     "task": false
    }
   },
   "source": [
    "#### Your chosen strategy <span style=\"color:blue\">\n",
    "\n",
    "Explain your chosen strategy for dealing with missing values for the various attributes in the cell below.\n"
   ]
  },
  {
   "cell_type": "markdown",
   "metadata": {
    "nbgrader": {
     "grade": false,
     "grade_id": "cell-d15ac67e5a2cc238",
     "locked": true,
     "points": 3,
     "schema_version": 3,
     "solution": false,
     "task": true
    }
   },
   "source": [
    "Your answer here"
   ]
  },
  {
   "cell_type": "markdown",
   "metadata": {
    "heading_collapsed": true,
    "nbgrader": {
     "grade": false,
     "grade_id": "cell-2c8e580a4d847f6c",
     "locked": true,
     "schema_version": 3,
     "solution": false,
     "task": false
    }
   },
   "source": [
    "## Task 3: Handling Outliers\n",
    "Total number of points for completing this task: **15**"
   ]
  },
  {
   "cell_type": "markdown",
   "metadata": {
    "hidden": true,
    "nbgrader": {
     "grade": false,
     "grade_id": "cell-ce009d4cf322d6a7",
     "locked": true,
     "schema_version": 3,
     "solution": false,
     "task": false
    }
   },
   "source": [
    "If you take a closer look at some of the observations, you should notice that some of the temperature values are not particularly plausible (hint: plotting histograms of the distributions helps). Hypothesize on the nature of these outliers and implement a strategy to handle them."
   ]
  },
  {
   "cell_type": "code",
   "execution_count": 17,
   "metadata": {
    "hidden": true,
    "nbgrader": {
     "grade": true,
     "grade_id": "cell-04412c26ecaea8c1",
     "locked": false,
     "points": 9,
     "schema_version": 3,
     "solution": true,
     "task": false
    }
   },
   "outputs": [],
   "source": [
    "def handle_outliers(noisy_data):\n",
    "    \"\"\" \n",
    "    Parameters\n",
    "    --------\n",
    "    noisy_data: data frame that contains outliers\n",
    "    \n",
    "    Returns\n",
    "    --------\n",
    "    cleaned_data: data frame with outliers\n",
    "    \"\"\"\n",
    "    noisy_data['temp_7h'] = np.where(np.logical_and(noisy_data['temp_7h'] > -40\n",
    "                                                   ,noisy_data['temp_7h'] < 40), noisy_data['temp_7h'], -1.9)\n",
    "    noisy_data['temp_14h'] = np.where(np.logical_and(noisy_data['temp_14h'] > -40\n",
    "                                                   ,noisy_data['temp_14h'] < 40), noisy_data['temp_14h'], 2.7)\n",
    "    noisy_data['temp_19h'] = np.where(np.logical_and(noisy_data['temp_19h'] > -40\n",
    "                                                   ,noisy_data['temp_19h'] < 40), noisy_data['temp_19h'], 0.4)\n",
    "    noisy_data['temp_dailyMin'] = np.where(np.logical_and(noisy_data['temp_dailyMin'] > -13\n",
    "                                                         ,noisy_data['temp_dailyMin'] < 24), noisy_data['temp_dailyMin'], 8.2)\n",
    "    #replacing humidity outliers with mean for each column\n",
    "    #\n",
    "    noisy_data['hum_7h'] = np.where(noisy_data['hum_7h'] > 45, noisy_data['hum_7h'], 80.29)\n",
    "    noisy_data['hum_14h'] = np.where(noisy_data['hum_14h'] >= 25, noisy_data['hum_14h'], 61.82)\n",
    "    noisy_data['hum_19h'] = np.where(noisy_data['hum_19h'] > 30, noisy_data['hum_19h'], 70.08)\n",
    "    \n",
    "    #replacing wind outliers with number 3, which represents a small breeze level of wind\n",
    "    #\n",
    "    noisy_data['windBeauf_7h'] = np.where(noisy_data['windBeauf_7h'] <=5, noisy_data['windBeauf_7h'], 3)\n",
    "    noisy_data['windBeauf_14h'] = np.where(np.logical_and(noisy_data['windBeauf_14h'] >= 1\n",
    "                                                         ,noisy_data['windBeauf_14h'] <= 6), noisy_data['windBeauf_14h'], 3)\n",
    "    noisy_data['windBeauf_19h'] = np.where(noisy_data['windBeauf_19h'] <= 5, noisy_data['windBeauf_19h'], 3)\n",
    "    \n",
    "    #replacing precipitation outliers with mean for each column\n",
    "    #\n",
    "    noisy_data['precip'] = np.where(noisy_data['precip'] <= 40, noisy_data['precip'], 0.4)\n",
    "    cleaned_data = noisy_data\n",
    "    ### END SOLUTION\n",
    "    \n",
    "    return cleaned_data\n",
    "    \n",
    "data_weather_cleaned = handle_outliers(data_weather_complete)"
   ]
  },
  {
   "cell_type": "markdown",
   "metadata": {
    "hidden": true,
    "nbgrader": {
     "grade": false,
     "grade_id": "cell-f4f717cbd0044513",
     "locked": true,
     "schema_version": 3,
     "solution": false,
     "task": false
    }
   },
   "source": [
    "#### Your chosen strategy\n",
    "\n",
    "Explain your chosen strategy for dealing with outliers in the cell below.\n"
   ]
  },
  {
   "cell_type": "markdown",
   "metadata": {
    "hidden": true,
    "nbgrader": {
     "grade": false,
     "grade_id": "cell-607ce3bef01095ca",
     "locked": true,
     "points": 8,
     "schema_version": 3,
     "solution": false,
     "task": true
    }
   },
   "source": [
    "Your answer here"
   ]
  },
  {
   "cell_type": "markdown",
   "metadata": {
    "heading_collapsed": true,
    "nbgrader": {
     "grade": false,
     "grade_id": "cell-0990eaaca0f65e11",
     "locked": true,
     "schema_version": 3,
     "solution": false,
     "task": false
    }
   },
   "source": [
    "## Task 4: Aggregate values\n",
    "Total number of points for completing this task: **5**"
   ]
  },
  {
   "cell_type": "markdown",
   "metadata": {
    "hidden": true,
    "nbgrader": {
     "grade": false,
     "grade_id": "cell-49212be7489aed15",
     "locked": true,
     "schema_version": 3,
     "solution": false,
     "task": false
    }
   },
   "source": [
    "Aggregate the observations on a weekly basis. Return a data frame with a hierarchical index (levels `year` and `week`) on the vertical axis and the following weekly aggregations as columns:\n",
    "\n",
    "- `temp_weeklyMin`: minimum of `temp_dailyMin`\n",
    "- `temp_weeklyMax`: mean of `temp_dailyMax`\n",
    "- `temp_weeklyMean`: mean of `temp_dailyMean`\n",
    "- `temp_7h_weeklyMedian`: median of `temp_7h`\n",
    "- `temp_14h_weeklyMedian`: median of `temp_14h`\n",
    "- `temp_19h_weeklyMedian`: median of `temp_19h`\n",
    "\n",
    "- `hum_weeklyMean`: mean of `hum_dailyMean`\n",
    "- `hum_7h_weeklyMedian`: median of `hum_7h`\n",
    "- `hum_14h_weeklyMedian`: median of `hum_14h`\n",
    "- `hum_19h_weeklyMedian`: median of `hum_19h`\n",
    "\n",
    "- `precip_weeklyMean`: mean of `precip`\n",
    "- `windBeauf_14h_weeklyMedian`: median of `windBeauf_14h`"
   ]
  },
  {
   "cell_type": "code",
   "execution_count": 18,
   "metadata": {
    "hidden": true,
    "nbgrader": {
     "grade": true,
     "grade_id": "cell-554e4bae13ebe817",
     "locked": false,
     "points": 5,
     "schema_version": 3,
     "solution": true,
     "task": false
    }
   },
   "outputs": [],
   "source": [
    "def aggregate_weekly(data):\n",
    "    \"\"\" \n",
    "    Parameters\n",
    "    --------\n",
    "    data: weather data frame\n",
    "    \n",
    "    Returns\n",
    "    --------\n",
    "    weekly_stats: data frame that contains statistics aggregated on a weekly basis\n",
    "    \"\"\"\n",
    "    weekly_weather_data = pd.DataFrame()\n",
    "    \n",
    "    data['hum_dailyMean'] = (data['hum_7h'] + data['hum_14h'] + data['hum_19h'])/3\n",
    "    \n",
    "    tmp_data = data['temp_dailyMin'].groupby(by = ['year','week'], level = ['year','week']).min()\n",
    "    weekly_weather_data['temp_weeklyMin'] = tmp_data\n",
    "\n",
    "    tmp_data = data['temp_dailyMax'].groupby(by = ['year','week'], level = ['year','week']).mean()\n",
    "    weekly_weather_data['temp_weeklyMax'] = tmp_data\n",
    "\n",
    "    tmp_data = data['temp_dailyMean'].groupby(by = ['year','week'], level = ['year','week']).mean()\n",
    "    weekly_weather_data['temp_weeklyMean'] = tmp_data\n",
    "\n",
    "    tmp_data = data['temp_7h'].groupby(by = ['year','week'], level = ['year','week']).median()\n",
    "    weekly_weather_data['temp_7h_weeklyMedian'] = tmp_data\n",
    "\n",
    "    tmp_data = data['temp_14h'].groupby(by = ['year','week'], level = ['year','week']).median()\n",
    "    weekly_weather_data['temp_14h_weeklyMedian'] = tmp_data\n",
    "\n",
    "    tmp_data = data['temp_19h'].groupby(by = ['year','week'], level = ['year','week']).median()\n",
    "    weekly_weather_data['temp_19h_weeklyMedian'] = tmp_data\n",
    "\n",
    "    tmp_data = data['hum_dailyMean'].groupby(by = ['year','week'], level = ['year','week']).mean()\n",
    "    weekly_weather_data['hum_weeklyMean'] = tmp_data\n",
    "\n",
    "    tmp_data = data['hum_7h'].groupby(by = ['year','week'], level = ['year','week']).median()\n",
    "    weekly_weather_data['hum_7h_weeklyMedian'] = tmp_data\n",
    "\n",
    "    tmp_data = data['hum_14h'].groupby(by = ['year','week'], level = ['year','week']).median()\n",
    "    weekly_weather_data['hum_14h_weeklyMedian'] = tmp_data\n",
    "\n",
    "    tmp_data = data['hum_19h'].groupby(by = ['year','week'], level = ['year','week']).median()\n",
    "    weekly_weather_data['hum_19h_weeklyMedian'] = tmp_data\n",
    "\n",
    "    tmp_data = data['precip'].groupby(by = ['year','week'], level = ['year','week']).mean()\n",
    "    weekly_weather_data['precip_weeklyMean'] = tmp_data\n",
    "\n",
    "    tmp_data = data['windBeauf_14h'].groupby(by = ['year','week'], level = ['year','week']).median()\n",
    "    weekly_weather_data['windBeauf_14h_weeklyMedian'] = tmp_data\n",
    "    \n",
    "    return weekly_weather_data\n",
    "\n",
    "data_weather_weekly = aggregate_weekly(data_weather_cleaned)"
   ]
  },
  {
   "cell_type": "markdown",
   "metadata": {
    "heading_collapsed": true,
    "nbgrader": {
     "grade": false,
     "grade_id": "cell-133db7b4fddd1ed8",
     "locked": true,
     "schema_version": 3,
     "solution": false,
     "task": false
    }
   },
   "source": [
    "## Task 5: Merge influenza and weather datasets\n",
    "Total number of points for completing this task: **5**"
   ]
  },
  {
   "cell_type": "markdown",
   "metadata": {
    "hidden": true,
    "nbgrader": {
     "grade": false,
     "grade_id": "cell-efae094388f82dbb",
     "locked": true,
     "schema_version": 3,
     "solution": false,
     "task": false
    }
   },
   "source": [
    "Merge the `data_weather_weekly` and `data_influenza` datasets."
   ]
  },
  {
   "cell_type": "code",
   "execution_count": 19,
   "metadata": {
    "hidden": true,
    "nbgrader": {
     "grade": true,
     "grade_id": "cell-9b5da141670f159c",
     "locked": false,
     "points": 5,
     "schema_version": 3,
     "solution": true,
     "task": false
    }
   },
   "outputs": [],
   "source": [
    "\n",
    "def merge_data(weather_df, influenza_df):\n",
    "    \"\"\" \n",
    "    Parameters\n",
    "    --------\n",
    "    weather_df: weekly weather data frame\n",
    "    influenza_df: influenza data frame\n",
    "    \n",
    "    Returns\n",
    "    --------\n",
    "    merged_data: merged data frame that contains both weekly weather observations and prevalence of influence infections\n",
    "    \"\"\"\n",
    "    ### BEGIN SOLUTION\n",
    "    merged_data = influenza_df.join(weather_df, on = ['year', 'week'])    \n",
    "    ### END SOLUTION\n",
    "\n",
    "    return merged_data\n",
    "\n",
    "data_merged = merge_data(data_weather_weekly, data_influenza)"
   ]
  },
  {
   "cell_type": "markdown",
   "metadata": {
    "heading_collapsed": true,
    "nbgrader": {
     "grade": false,
     "grade_id": "cell-548ced5ba28ffd1d",
     "locked": true,
     "schema_version": 3,
     "solution": false,
     "task": false
    }
   },
   "source": [
    "## Task 6: Visualization\n",
    "Total number of points for completing this task: **15**"
   ]
  },
  {
   "cell_type": "markdown",
   "metadata": {
    "hidden": true,
    "nbgrader": {
     "grade": false,
     "grade_id": "cell-81213eee34f51f1e",
     "locked": true,
     "schema_version": 3,
     "solution": false,
     "task": false
    }
   },
   "source": [
    "To get a better understanding of the dataset, create visualizations of the merged data set that help to explore the potential relationships between the variables before starting to develop a model.\n",
    "\n",
    "\n",
    "**Note:** Hand in multiple figures, use a proper naming configuration for the image files."
   ]
  },
  {
   "cell_type": "code",
   "execution_count": 20,
   "metadata": {
    "hidden": true,
    "nbgrader": {
     "grade": true,
     "grade_id": "cell-b2dee2cc5769f19d",
     "locked": false,
     "points": 15,
     "schema_version": 3,
     "solution": true,
     "task": false
    }
   },
   "outputs": [
    {
     "data": {
      "image/png": "[encoded data removed]",
      "text/plain": [
       "<Figure size 1440x720 with 1 Axes>"
      ]
     },
     "metadata": {
      "needs_background": "light"
     },
     "output_type": "display_data"
    },
    {
     "name": "stderr",
     "output_type": "stream",
     "text": [
      "<ipython-input-20-288085a35026>:19: UserWarning: FixedFormatter should only be used together with FixedLocator\n",
      "  ax.set_xticklabels(labels, rotation = 75)\n",
      "<ipython-input-20-288085a35026>:20: UserWarning: FixedFormatter should only be used together with FixedLocator\n",
      "  ax.set_yticklabels(labels)\n"
     ]
    },
    {
     "data": {
      "image/png": "[encoded data removed]",
      "text/plain": [
       "<Figure size 1440x1440 with 2 Axes>"
      ]
     },
     "metadata": {
      "needs_background": "light"
     },
     "output_type": "display_data"
    },
    {
     "data": {
      "image/png": "[encoded data removed]",
      "text/plain": [
       "<Figure size 432x288 with 1 Axes>"
      ]
     },
     "metadata": {
      "needs_background": "light"
     },
     "output_type": "display_data"
    },
    {
     "data": {
      "image/png": "[encoded data removed]",
      "text/plain": [
       "<Figure size 432x288 with 1 Axes>"
      ]
     },
     "metadata": {
      "needs_background": "light"
     },
     "output_type": "display_data"
    }
   ],
   "source": [
    "labels = [' ', 'weekly_infections', 'temp_weeklyMin', 'temp_weeklyMax',\n",
    "       'temp_weeklyMean', 'temp_7h_weeklyMedian', 'temp_14h_weeklyMedian',\n",
    "       'temp_19h_weeklyMedian', 'hum_weeklyMean', 'hum_7h_weeklyMedian',\n",
    "       'hum_14h_weeklyMedian', 'hum_19h_weeklyMedian', 'precip_weeklyMean',\n",
    "       'windBeauf_14h_weeklyMedian']\n",
    "\n",
    "data_merged.weekly_infections.unstack(level=0).plot(figsize = (20,10), kind='bar')\n",
    "plt.ylabel('number of weekly infections')\n",
    "plt.xlabel('year and week')\n",
    "plt.title('Frequency of weekly infections in particular weeks')\n",
    "plt.savefig('bar_frequency_weekly_infections' + '_01.png', bbox_inches = 'tight')\n",
    "plt.show()\n",
    "\n",
    "fig = plt.figure(figsize = (20,20))\n",
    "ax = fig.add_subplot(111)\n",
    "cax = ax.matshow(data_merged.corr(), interpolation='nearest')\n",
    "fig.colorbar(cax)\n",
    "ax.xaxis.tick_bottom()\n",
    "ax.set_xticklabels(labels, rotation = 75)\n",
    "ax.set_yticklabels(labels)\n",
    "ax.xaxis.set_major_locator(ticker.MultipleLocator(1))\n",
    "ax.yaxis.set_major_locator(ticker.MultipleLocator(1))\n",
    "plt.title('Correlation matrix')\n",
    "plt.savefig('heatmap_corr_matrix' + '_02.png', bbox_inches = 'tight')\n",
    "plt.show()\n",
    "\n",
    "plt.scatter(data_merged['temp_weeklyMin'], data_merged['weekly_infections'])\n",
    "plt.scatter(data_merged['temp_weeklyMax'], data_merged['weekly_infections'])\n",
    "plt.scatter(data_merged['temp_weeklyMean'], data_merged['weekly_infections'])\n",
    "plt.ylabel('weekly infections')\n",
    "plt.xlabel('min(blue), max(orange) and mean(green) temperature')\n",
    "plt.title('Relationship between infections and an outside temperature')\n",
    "plt.savefig('scatter_temp_infections' + '_05.png', bbox_inches = 'tight')\n",
    "plt.show()\n",
    "\n",
    "plt.bar(data_merged['windBeauf_14h_weeklyMedian'], data_merged['weekly_infections'], width = 0.5)\n",
    "plt.ylabel('weekly infections')\n",
    "plt.xlabel('mean weekly wind according to Beaufort scale')\n",
    "plt.title('Relationship between infections and windy weather')\n",
    "plt.savefig('scatter_windBeauf_infections' + '_06.png', bbox_inches = 'tight')\n",
    "plt.show()"
   ]
  },
  {
   "cell_type": "markdown",
   "metadata": {
    "heading_collapsed": true,
    "nbgrader": {
     "grade": false,
     "grade_id": "cell-428d31b03a35afc4",
     "locked": true,
     "schema_version": 3,
     "solution": false,
     "task": false
    }
   },
   "source": [
    "## Task 7: Influenza prediction model \n",
    "Total number of points for completing this task: **35**\n"
   ]
  },
  {
   "cell_type": "markdown",
   "metadata": {
    "hidden": true,
    "nbgrader": {
     "grade": false,
     "grade_id": "cell-c1cc534f001d58c8",
     "locked": true,
     "schema_version": 3,
     "solution": false,
     "task": false
    }
   },
   "source": [
    "Build a model to predict the number of influenza incidents for the first part of the 2018/2018 Influenza season (`influenza_predict.csv`) based on data of previous year using `sklearn`. \n",
    "\n",
    " - Choose appropriate machine learning algorithm(s) for the problem at hand\n",
    " - Make sure your results are reproducible\n",
    " - Don't hesitate to go back to previous steps if you notice any data quality issues\n",
    " - If your chosen algorithm has specific parameters, explore their effect with different settings using 10-fold cross-validation\n",
    " - Experiment with different training/test splits\n",
    " - If appropriate, try different scaling approaches (min/max, z-score,..).\n",
    " - How good does your model fit when you evaluate it with the test data set?\n",
    " - How good are your predictions when you use the actual data available for 2018 as a validation set?\n",
    " "
   ]
  },
  {
   "cell_type": "code",
   "execution_count": 22,
   "metadata": {
    "hidden": true,
    "nbgrader": {
     "grade": false,
     "grade_id": "cell-907be24a9572ebdf",
     "locked": true,
     "points": 20,
     "schema_version": 3,
     "solution": false,
     "task": true
    }
   },
   "outputs": [
    {
     "name": "stdout",
     "output_type": "stream",
     "text": [
      "RMSE of testing data for Linear Regression:\t 3006.4533765590527\n",
      "R2 of testing data  for Linear Regression:\t -0.5429079462546493\n",
      "Train:\n",
      " [ 8924.74506874 10060.55696952  8647.09671754  7673.06303303\n",
      "  8155.6354914   8561.49527404  9567.58189748  7459.13947054\n",
      "  7949.55589027  7198.31867926  8602.43059569  9002.54724\n",
      "  8713.1604746   8675.03510438  7496.48616802 10060.86062718\n",
      "  7114.38071446 10343.0588057   8433.29355577 10476.00002747\n",
      "  9308.25727379  9571.01400763  6858.82086533  8382.45411708\n",
      " 10860.48561571  7870.68626397  9433.83155772  8592.02760342\n",
      "  9499.90207088  9417.32308078  7946.43927909  9113.12848479\n",
      "  9385.21251993  8834.92858848  8024.15406614  7634.12564141\n",
      "  8407.38734646 10503.14273772 11028.42871877  8675.04149928\n",
      "  9070.39996977  9022.18013473  8620.77899672  7680.6568974\n",
      "  9432.42909056 10286.69910825 10565.16428193  7020.42871814\n",
      "  7410.73919887 10071.69960379  9765.56752027  7621.57975868\n",
      " 10764.17987562  9027.90494527  7929.93122297  9262.91344772\n",
      "  8501.23247399 10073.77416285  8827.87561988  6762.6855895\n",
      "  8133.5924259   7649.70536625  8973.59166035  8739.73686503\n",
      "  8697.97444039  8671.86658448  9989.66248021  8492.86355528\n",
      "  7618.27510589 11150.89297197  9376.39978006  9445.52142395\n",
      "  8546.42519701  9359.48741812  8167.33047009  8970.49613595\n",
      "  9115.64705695  9249.55804129 10706.06685665  8033.56752884\n",
      "  8651.118232    8624.51356202  8522.08732409 10121.43248243\n",
      "  9919.2428464   7723.99231597  8359.14032187  7110.09372405\n",
      "  9045.92161882  8724.93636107  8335.47716695 10822.81108979\n",
      "  8989.85150474  8849.07372304  8926.90096072  9433.84264449\n",
      "  8764.87845285  8820.99369413  8412.20818399  8925.79295684\n",
      "  9556.31907549  9790.04208819 11364.00498052  8381.07807403\n",
      " 10915.52182959  8266.71848512 10233.16005437  9845.86044121\n",
      "  6984.68199449  9882.60071529  9533.03119218  8578.96530327\n",
      "  7354.81700428  8716.92319714  9482.84195763  8410.72876859\n",
      "  9837.32383849  9163.6674159   9345.98338843  8341.45999246\n",
      "  8076.23641159  9523.66056675  8948.9755037  10149.44273476\n",
      "  8517.1655828   8830.254735    8972.20653766 10552.5148277\n",
      "  8910.32986822  7602.41854438  9753.07301717  8764.79504905\n",
      "  8697.8971229  11523.72766217 10363.45685843 10008.67691871\n",
      "  8072.13033699  7405.49261777  8843.73114963  7455.377815\n",
      "  8232.91430718  8523.13332649  8105.78922036  8129.09808084\n",
      "  8857.04728297 10206.15050261  9354.47382994  9464.02436414\n",
      "  9119.52167218  7080.39932119  8428.84622152  8490.83842475\n",
      "  9430.48158604  7699.00293922 10325.35388296  8887.42406346\n",
      "  8134.08957882  9005.81268705 10774.32403761  9209.69951044\n",
      "  7916.64355577  9119.29851209 10373.98015497  7436.49844925\n",
      " 10248.08613519  9143.70344765  9852.5984913   9222.96447961\n",
      "  8375.96886008 10275.89158032  9663.65020776  7731.24991903\n",
      " 10483.09547438 10670.95353675  8417.42926861 10302.17889148\n",
      "  8580.39368852  9514.21319669  8640.05526487  8927.92984718\n",
      "  9934.69179782  8415.40413578  9051.02009721  8710.69671002\n",
      "  8554.50943657  8391.66631144 10007.62749877  7307.26261843\n",
      "  9219.14377025  9841.22096751 11737.00402146  7654.78492631\n",
      "  9031.05306273  8509.85970218 10387.45252285 10233.88122106\n",
      "  9480.36932298  8434.07074347  7819.9692396   7960.89807686\n",
      "  9331.6164819   8785.57495228  8987.72093353  8925.42664475\n",
      "  7498.01384762 10549.68493922 11180.10404504  9993.74622272]\n",
      "\n",
      "Test:\n",
      " [10171.50787683  8544.75057634  8973.93937674  9198.49377913\n",
      "  9813.00794921  9087.70846562  7351.14986976  8002.66703706\n",
      " 10253.5651944   8100.89286092 10056.75138382  8979.73728006\n",
      "  8252.98613655 10050.46895021  7106.4475494  10113.19339396\n",
      " 10598.49542734  8284.2813745   9652.07958933  7811.59584057\n",
      " 10263.47328039  6817.52392245  8347.65730579  9728.44426947]\n",
      "\n",
      "Final prediction:\n",
      " [  1604.56700831  10327.6932791  -22792.4421513    1799.98001466\n",
      "  -2661.77631721  -5856.66819345 -16420.68375314  -8450.46898625\n",
      "  -7758.3979545  -15620.54868434 -15653.33389182 -15183.74621054]\n"
     ]
    }
   ],
   "source": [
    "from sklearn.linear_model import LinearRegression\n",
    "from sklearn import model_selection\n",
    "from sklearn.svm import SVR\n",
    "from sklearn.metrics import r2_score\n",
    "from sklearn.model_selection import train_test_split\n",
    "from sklearn.metrics import mean_squared_error\n",
    "from sklearn.linear_model import Ridge\n",
    "from sklearn.linear_model import ElasticNet\n",
    "from scipy import stats\n",
    "\n",
    "column_names = ['Jahr', 'Kalenderwoche', 'Neuerkrankungen pro Woche']\n",
    "data = pd.read_csv('../data/influenza/influenza_predict.csv', usecols=column_names)\n",
    "influenza_predict_data = data.rename(columns={'Jahr':'year'\n",
    "                                             ,'Kalenderwoche':'week'\n",
    "                                             ,'Neuerkrankungen pro Woche':'weekly_infections'})\n",
    "influenza_predict_data['week'] = influenza_predict_data['week'].apply(lambda x: int(''.join(filter(str.isdigit, x))))\n",
    "influenza_predict_data.set_index(['year', 'week'], inplace=True)\n",
    "influenza_predict_data['weekly_infections'] = influenza_predict_data['weekly_infections']*1000\n",
    "influenza_predict_data['weekly_infections'] = influenza_predict_data['weekly_infections'].astype(int)\n",
    "\n",
    "data_merged_predict = merge_data(data_weather_weekly, influenza_predict_data)\n",
    "\n",
    "target_column = ['weekly_infections']\n",
    "predictors = list(set(list(data_merged.columns))-set(target_column))\n",
    "data_merged[predictors] = stats.zscore(data_merged[predictors])\n",
    "#data_merged.describe()\n",
    "\n",
    "X = data_merged[predictors].values\n",
    "y = data_merged[target_column].values\n",
    "\n",
    "X_train, X_test, y_train, y_test = train_test_split(X, y, test_size=0.1, random_state=20)\n",
    "#print(X_train.shape); print(X_test.shape)\n",
    "\n",
    "####Support vector regression\n",
    "#\n",
    "lr = LinearRegression()\n",
    "lr.fit(X_train, y_train.ravel()) \n",
    "pred_train_lr = lr.predict(X_train)\n",
    "\n",
    "pred_test_lr = lr.predict(X_test)\n",
    "print(\"RMSE of testing data for Linear Regression:\\t\",np.sqrt(mean_squared_error(y_test,pred_test_lr))) \n",
    "print(\"R2 of testing data  for Linear Regression:\\t\",r2_score(y_test, pred_test_lr))\n",
    "\n",
    "pred_final_data_lr = lr.predict(data_merged_predict[predictors])\n",
    "print(\"Train:\\n\", pred_train_lr)\n",
    "print(\"\\nTest:\\n\", pred_test_lr)\n",
    "print(\"\\nFinal prediction:\\n\", pred_final_data_lr)"
   ]
  },
  {
   "cell_type": "markdown",
   "metadata": {
    "hidden": true,
    "nbgrader": {
     "grade": false,
     "grade_id": "cell-fbde64b84f18c30d",
     "locked": true,
     "schema_version": 3,
     "solution": false,
     "task": false
    }
   },
   "source": [
    "#### Approach and algorithm\n",
    "Motivate your approach and choice of algorithm in the cell below"
   ]
  },
  {
   "cell_type": "markdown",
   "metadata": {
    "hidden": true,
    "nbgrader": {
     "grade": false,
     "grade_id": "cell-47e2d2e152925e2d",
     "locked": true,
     "points": 6,
     "schema_version": 3,
     "solution": false,
     "task": true
    }
   },
   "source": [
    "Your answer here"
   ]
  },
  {
   "cell_type": "markdown",
   "metadata": {
    "hidden": true,
    "nbgrader": {
     "grade": false,
     "grade_id": "cell-840e1caf1a6cdddd",
     "locked": true,
     "schema_version": 3,
     "solution": false,
     "task": false
    }
   },
   "source": [
    "#### Findings  <span style=\"color:blue\">(2 P)</span>\n",
    "Summarize your findings and lessens learned."
   ]
  },
  {
   "cell_type": "markdown",
   "metadata": {
    "hidden": true,
    "nbgrader": {
     "grade": false,
     "grade_id": "cell-48745fd0440c1380",
     "locked": true,
     "points": 4,
     "schema_version": 3,
     "solution": false,
     "task": true
    }
   },
   "source": [
    "Your answer here"
   ]
  }
 ],
 "metadata": {
  "celltoolbar": "Create Assignment",
  "hide_input": false,
  "kernelspec": {
   "display_name": "Python 3",
   "language": "python",
   "name": "python3"
  },
  "language_info": {
   "codemirror_mode": {
    "name": "ipython",
    "version": 3
   },
   "file_extension": ".py",
   "mimetype": "text/x-python",
   "name": "python",
   "nbconvert_exporter": "python",
   "pygments_lexer": "ipython3",
   "version": "3.8.8"
  }
 },
 "nbformat": 4,
 "nbformat_minor": 2
}